{
 "cells": [
  {
   "cell_type": "code",
   "execution_count": 1,
   "id": "d11e9d4e",
   "metadata": {},
   "outputs": [],
   "source": [
    "import os\n",
    "import random\n",
    "import shutil\n",
    "from multiprocessing.dummy import Pool\n",
    "import numpy as np\n",
    "import pandas as pd\n",
    "import matplotlib.pyplot as plt\n",
    "from PIL import Image\n",
    "from sklearn.model_selection import train_test_split\n",
    "import joblib\n",
    "from skimage.morphology import binary_opening, disk, label\n",
    "import torch\n",
    "import torch.nn as nn\n",
    "import torch.nn.functional as F\n",
    "from torch.autograd import Variable\n",
    "from torch.utils.data import DataLoader, Dataset\n",
    "from  torchvision.transforms import *\n",
    "import torchvision.transforms as transforms\n",
    "from fastai.vision.all import *"
   ]
  },
  {
   "cell_type": "markdown",
   "id": "6171031b",
   "metadata": {},
   "source": [
    "<a id='top'></a>\n",
    "<div class=\"list-group\" id=\"list-tab\" role=\"tablist\">\n",
    "<h1  style=\"padding:20px;color:white;margin:0;font-size:200%;text-align:left;display:fill;border-radius:15px;background-color:\t#1E90FF;overflow:hidden\"><center> Airbus Ship Detection Challenge </center></h1>\n",
    "    \n",
    "<img src = \"https://www.mdpi.com/sensors/sensors-22-02713/article_deploy/html/images/sensors-22-02713-g006.png\" >"
   ]
  },
  {
   "cell_type": "markdown",
   "id": "9120499f",
   "metadata": {},
   "source": [
    "> ## [**1. Load Data**](#title-one)\n",
    " >## [**2. Model Unet**](#title-two)\n",
    " >## [**3. Submission**](#title-three)"
   ]
  },
  {
   "cell_type": "markdown",
   "id": "0902676b",
   "metadata": {},
   "source": [
    "<a id='title-one'></a>\n",
    "<div class=\"list-group\" id=\"list-tab\" role=\"tablist\">\n",
    "<h1  style=\"padding:20px;color:white;margin:0;font-size:200%;text-align:left;display:fill;border-radius:15px;background-color:\t#1E90FF;overflow:hidden\"> Load Data</h1>\n"
   ]
  },
  {
   "cell_type": "code",
   "execution_count": 2,
   "id": "56c181d3",
   "metadata": {},
   "outputs": [],
   "source": [
    "def decode_mask(mask, shape=(768, 768)):\n",
    "    pixels = mask.T.flatten()\n",
    "    pixels = np.concatenate([[0], pixels, [0]])\n",
    "    runs = np.where(pixels[1:] != pixels[:-1])[0] +1\n",
    "    runs[1::2] -= runs[::2]\n",
    "    return ' '.join(str(x) for x in runs)\n",
    "def rle_decode(mask_rle, shape=(768, 768)):\n",
    "    if not isinstance(mask_rle, str):\n",
    "        img = np.zeros(shape[0]*shape[1], dtype=np.uint8)\n",
    "        return img.reshape(shape).T\n",
    "    s = mask_rle.split()\n",
    "    starts, lengths = [np.asarray(x, dtype=int) for x in (s[0:][::2], s[1:][::2])]\n",
    "    ends = starts + lengths\n",
    "    im = np.zeros(shape[0]*shape[1], dtype=np.uint8)\n",
    "    for lo, hi in zip(starts, ends):\n",
    "        im[lo:hi] = 1\n",
    "    return im.reshape(shape).T"
   ]
  },
  {
   "cell_type": "code",
   "execution_count": 3,
   "id": "d5c6f81e",
   "metadata": {},
   "outputs": [],
   "source": [
    "class param:\n",
    "    img_size = (768, 768)\n",
    "    bs = 8\n",
    "    num_workers = 4\n",
    "    lr = 0.001\n",
    "    epochs = 100\n",
    "    unet_depth = 5\n",
    "    unet_start_filters = 8\n",
    "    log_interval = 70"
   ]
  },
  {
   "cell_type": "code",
   "execution_count": 4,
   "id": "2beda0db",
   "metadata": {},
   "outputs": [],
   "source": [
    "PATH = './'\n",
    "TRAIN = 'train_v2/'\n",
    "TEST = 'test_v2/'\n",
    "SEGMENTATION = 'train_ship_segmentations_v2.csv'\n",
    "DETECTION_TEST_PRED = 'ship_detection.csv'\n",
    "train_dpath = 'train_v2/'\n",
    "anno_path = 'train_ship_segmentation_v2.csv'\n",
    "excluded_filenames = ['6384c3e78.jpg', ]\n",
    "original_img_size = (768, 768)"
   ]
  },
  {
   "cell_type": "code",
   "execution_count": 5,
   "id": "91c58ebf",
   "metadata": {},
   "outputs": [],
   "source": [
    "annos = pd.read_csv('train_ship_segmentations_v2.csv')"
   ]
  },
  {
   "cell_type": "code",
   "execution_count": 6,
   "id": "53e16273",
   "metadata": {},
   "outputs": [],
   "source": [
    "annos['EncodedPixels_flag'] = annos['EncodedPixels'].map(lambda x: 1 if isinstance(x,str) else 0)"
   ]
  },
  {
   "cell_type": "code",
   "execution_count": 7,
   "id": "1040f562",
   "metadata": {},
   "outputs": [],
   "source": [
    "imgs = annos.groupby('ImageId').agg({'EncodedPixels_flag':'sum'}).reset_index().rename(columns={'EncodedPixels_flag':'ships'})"
   ]
  },
  {
   "cell_type": "code",
   "execution_count": 8,
   "id": "f70156a9",
   "metadata": {},
   "outputs": [],
   "source": [
    "imgs_w_ships = imgs[imgs['ships'] > 0]\n",
    "imgs_wo_ships = imgs[imgs['ships'] == 0].sample(10_000,random_state=69278)\n",
    "\n",
    "selected_imgs = pd.concat([imgs_w_ships,imgs_wo_ships])\n",
    "selected_imgs['has_ships'] = selected_imgs['ships'] >0"
   ]
  },
  {
   "cell_type": "code",
   "execution_count": 9,
   "id": "a05326f2",
   "metadata": {},
   "outputs": [],
   "source": [
    "train_imgs, val_imgs = train_test_split(selected_imgs,test_size=0.01,stratify=selected_imgs['has_ships'],random_state=123) "
   ]
  },
  {
   "cell_type": "code",
   "execution_count": 10,
   "id": "c1dfc3d1",
   "metadata": {},
   "outputs": [
    {
     "name": "stdout",
     "output_type": "stream",
     "text": [
      "Train = 44672 val  = 7884 \n"
     ]
    }
   ],
   "source": [
    "train_imgs, val_imgs = train_test_split(selected_imgs,test_size=0.15,stratify=selected_imgs['has_ships'],random_state=123) \n",
    "train_fnames = train_imgs['ImageId'].values\n",
    "val_fnames = val_imgs['ImageId'].values\n",
    "test_fnames = pd.read_csv('sample_submission_v2.csv')['ImageId'].values\n",
    "#p ,train_fnames =  train_test_split(train_fnames,test_size=0.1,random_state=123)\n",
    "#p_1,val_fnames =  train_test_split(val_fnames,test_size=0.1,random_state=123)\n",
    "print(f\"\"\"Train = {len(train_fnames)} val  = {len(val_fnames)} \"\"\")"
   ]
  },
  {
   "cell_type": "code",
   "execution_count": 11,
   "id": "fd5c897b",
   "metadata": {},
   "outputs": [
    {
     "data": {
      "text/html": [
       "<div>\n",
       "<style scoped>\n",
       "    .dataframe tbody tr th:only-of-type {\n",
       "        vertical-align: middle;\n",
       "    }\n",
       "\n",
       "    .dataframe tbody tr th {\n",
       "        vertical-align: top;\n",
       "    }\n",
       "\n",
       "    .dataframe thead th {\n",
       "        text-align: right;\n",
       "    }\n",
       "</style>\n",
       "<table border=\"1\" class=\"dataframe\">\n",
       "  <thead>\n",
       "    <tr style=\"text-align: right;\">\n",
       "      <th></th>\n",
       "      <th>ImageId</th>\n",
       "      <th>ships</th>\n",
       "    </tr>\n",
       "    <tr>\n",
       "      <th>has_ships</th>\n",
       "      <th></th>\n",
       "      <th></th>\n",
       "    </tr>\n",
       "  </thead>\n",
       "  <tbody>\n",
       "    <tr>\n",
       "      <th>False</th>\n",
       "      <td>8500</td>\n",
       "      <td>8500</td>\n",
       "    </tr>\n",
       "    <tr>\n",
       "      <th>True</th>\n",
       "      <td>36172</td>\n",
       "      <td>36172</td>\n",
       "    </tr>\n",
       "  </tbody>\n",
       "</table>\n",
       "</div>"
      ],
      "text/plain": [
       "           ImageId  ships\n",
       "has_ships                \n",
       "False         8500   8500\n",
       "True         36172  36172"
      ]
     },
     "execution_count": 11,
     "metadata": {},
     "output_type": "execute_result"
    }
   ],
   "source": [
    "train_imgs.groupby('has_ships').count()"
   ]
  },
  {
   "cell_type": "code",
   "execution_count": 12,
   "id": "b8f0ab92",
   "metadata": {},
   "outputs": [],
   "source": [
    "class ImgDataset(Dataset):\n",
    "\n",
    "    def __init__(self,\n",
    "                 img_dpath,\n",
    "                 img_fnames,\n",
    "                 img_transform,\n",
    "                 mask_encodings=None,\n",
    "                 mask_size=None,\n",
    "                 mask_transform=None):\n",
    "        self.img_dpath = img_dpath\n",
    "        self.img_fnames = img_fnames\n",
    "        self.img_transform = img_transform\n",
    "\n",
    "        self.mask_encodings = mask_encodings\n",
    "        self.mask_size = mask_size\n",
    "        self.mask_transform = mask_transform\n",
    "\n",
    "    def __getitem__(self, i):\n",
    "        # https://github.com/pytorch/vision/issues/9#issuecomment-304224800\n",
    "        seed = np.random.randint(2147483647)\n",
    "\n",
    "        fname = self.img_fnames[i]\n",
    "        fpath = os.path.join(self.img_dpath, fname)\n",
    "        img = Image.open(fpath)\n",
    "        if self.img_transform is not None:\n",
    "            random.seed(seed)\n",
    "            img = self.img_transform(img)\n",
    "\n",
    "        if self.mask_encodings is None:\n",
    "            img =  self.img_transform(Image.open(fpath))\n",
    "            return img, 0,self.img_fnames[i]\n",
    "\n",
    "        if self.mask_size is None or self.mask_transform is None:\n",
    "            raise ValueError('If mask_dpath is not None, mask_size and mask_transform must not be None.')\n",
    "\n",
    "        mask = np.zeros(self.mask_size, dtype=np.uint8)\n",
    "        if self.mask_encodings[fname][0] == self.mask_encodings[fname][0]: # NaN doesn't equal to itself\n",
    "            for encoding in self.mask_encodings[fname]:\n",
    "                mask += rle_decode(encoding, self.mask_size)\n",
    "        mask = np.clip(mask, 0, 1)\n",
    "\n",
    "        mask = Image.fromarray(mask)\n",
    "\n",
    "        random.seed(seed)\n",
    "        mask = self.mask_transform(mask)\n",
    "        img = self.img_transform(Image.open(fpath))\n",
    "        return  img, torch.from_numpy(np.array(mask, dtype=np.int64)),self.img_fnames[i]\n",
    "\n",
    "    def __len__(self):\n",
    "        return len(self.img_fnames)"
   ]
  },
  {
   "cell_type": "code",
   "execution_count": 13,
   "id": "64e0f518",
   "metadata": {},
   "outputs": [],
   "source": [
    "def get_mask_encodings(annos,fnames):\n",
    "    a = annos[annos['ImageId'].isin(fnames)]\n",
    "    return a.groupby('ImageId')['EncodedPixels'].apply(lambda x: x.tolist()).to_dict()"
   ]
  },
  {
   "cell_type": "code",
   "execution_count": 14,
   "id": "f8b69db7",
   "metadata": {},
   "outputs": [],
   "source": [
    "train_tfms = transforms.Compose([\n",
    "                                 ColorJitter(brightness=0.25, contrast=0.25, saturation=0.25, hue=0.1),transforms.Resize(param.img_size),transforms.ToTensor()])\n",
    "val_tfms = transforms.Compose([\n",
    "                               ColorJitter(brightness=0.25, contrast=0.25, saturation=0.25, hue=0.1),transforms.Resize(param.img_size),transforms.ToTensor()])\n",
    "test_tfms =transforms.Compose([\n",
    "                               ColorJitter(brightness=0.25, contrast=0.25, saturation=0.25, hue=0.1),transforms.ToTensor()])\n",
    "mask_tfms = transforms.Compose([transforms.Resize(param.img_size)])"
   ]
  },
  {
   "cell_type": "code",
   "execution_count": 15,
   "id": "ddabe8bf",
   "metadata": {},
   "outputs": [],
   "source": [
    "train_ds = ImgDataset(train_dpath, train_fnames, train_tfms, get_mask_encodings(annos, train_fnames), original_img_size, mask_tfms)\n",
    "val_ds = ImgDataset(train_dpath, val_fnames, val_tfms, get_mask_encodings(annos, val_fnames), original_img_size, mask_tfms)\n",
    "test_ds = ImgDataset(TEST, test_fnames, val_tfms, None, original_img_size, None)"
   ]
  },
  {
   "cell_type": "code",
   "execution_count": 16,
   "id": "c8dbf1a3",
   "metadata": {},
   "outputs": [],
   "source": [
    "train_dl = DataLoader(train_ds,\n",
    "                      batch_size=param.bs,num_workers=2,\n",
    "                      shuffle=True)\n",
    "val_dl = DataLoader(val_ds,\n",
    "                    batch_size=param.bs,num_workers=2,\n",
    "                    shuffle=False)\n",
    "test_dl = DataLoader(test_ds,\n",
    "                    batch_size=5,num_workers=2,\n",
    "                    shuffle=False)"
   ]
  },
  {
   "cell_type": "markdown",
   "id": "7d2cb97c",
   "metadata": {},
   "source": [
    "<a id='title-two'></a>\n",
    "<div class=\"list-group\" id=\"list-tab\" role=\"tablist\">\n",
    "<h1  style=\"padding:20px;color:white;margin:0;font-size:200%;text-align:left;display:fill;border-radius:15px;background-color:\t#1E90FF;overflow:hidden\">Model</h1>"
   ]
  },
  {
   "cell_type": "code",
   "execution_count": 17,
   "id": "3c02cb7e",
   "metadata": {},
   "outputs": [],
   "source": [
    "class UnetBlock(nn.Module):\n",
    "    \n",
    "    def __init__(self,up_in, x_in, n_out):\n",
    "        super().__init__()\n",
    "        up_out = x_out = n_out//2\n",
    "        self.x_conv  = nn.Conv2d(x_in,  x_out,  1)\n",
    "        self.tr_conv = nn.ConvTranspose2d(up_in, up_out, 2, stride=2)\n",
    "        self.bn = nn.BatchNorm2d(n_out)\n",
    "        \n",
    "    def forward(self, up_p, x_p):\n",
    "        up_p = self.tr_conv(up_p)\n",
    "        x_p = self.x_conv(x_p)\n",
    "        cat_p = torch.cat([up_p,x_p], dim=1)\n",
    "        return self.bn(F.relu(cat_p))\n",
    "    \n",
    "class SaveFeatures():\n",
    "    \n",
    "    features=None\n",
    "    def __init__(self, m): self.hook = m.register_forward_hook(self.hook_fn)\n",
    "    def hook_fn(self, module, input, output): self.features = output\n",
    "    def remove(self): self.hook.remove()\n",
    "        \n",
    "        \n",
    "class Unet(nn.Module):\n",
    "    def __init__(self, rn):\n",
    "        super().__init__()\n",
    "        self.rn = rn\n",
    "        self.sfs = [SaveFeatures(rn[i]) for i in [2,4,5,6]]\n",
    "        self.up1 = UnetBlock(512,256,256)\n",
    "        self.up2 = UnetBlock(256,128,256)\n",
    "        self.up3 = UnetBlock(256,64,256)\n",
    "        self.up4 = UnetBlock(256,64,256)\n",
    "        self.up5 = nn.ConvTranspose2d(256, 1, 2, stride=2)\n",
    "        \n",
    "    def forward(self,x):\n",
    "        x = F.relu(self.rn(x))\n",
    "        x = self.up1(x, self.sfs[3].features)\n",
    "        x = self.up2(x, self.sfs[2].features)\n",
    "        x = self.up3(x, self.sfs[1].features)\n",
    "        x = self.up4(x, self.sfs[0].features)\n",
    "        x = self.up5(x)\n",
    "        return x[:,0]\n",
    "    \n",
    "    def close(self):\n",
    "        print(1)\n",
    "        for sf in self.sfs: sf.remove()\n",
    "    "
   ]
  },
  {
   "cell_type": "code",
   "execution_count": 20,
   "id": "dfc47981",
   "metadata": {},
   "outputs": [],
   "source": [
    "arch = resnet34\n",
    "cut = model_meta[arch]['cut']"
   ]
  },
  {
   "cell_type": "code",
   "execution_count": 21,
   "id": "253318a7",
   "metadata": {},
   "outputs": [
    {
     "data": {
      "text/plain": [
       "{'cut': -2,\n",
       " 'split': <function fastai.vision.learner._resnet_split(m)>,\n",
       " 'stats': ([0.485, 0.456, 0.406], [0.229, 0.224, 0.225])}"
      ]
     },
     "execution_count": 21,
     "metadata": {},
     "output_type": "execute_result"
    }
   ],
   "source": [
    "model_meta[arch]"
   ]
  },
  {
   "cell_type": "code",
   "execution_count": 22,
   "id": "63247bcf",
   "metadata": {},
   "outputs": [],
   "source": [
    "def get_base():                   #load ResNet34 model\n",
    "    layers = cut_model(arch(True), cut)\n",
    "    return nn.Sequential(*layers)\n",
    "\n",
    "def load_pretrained(model): #load a model pretrained on ship/no-ship classification\n",
    "    \n",
    "    weights = torch.load('resnet34-333f7ec4.pth', map_location=lambda storage, loc: storage)\n",
    "    model.load_state_dict(weights, strict=False)\n",
    "            \n",
    "    return model"
   ]
  },
  {
   "cell_type": "code",
   "execution_count": 23,
   "id": "7cd25c77",
   "metadata": {},
   "outputs": [
    {
     "name": "stderr",
     "output_type": "stream",
     "text": [
      "/usr/local/lib/python3.10/dist-packages/torchvision/models/_utils.py:135: UserWarning: Using 'weights' as positional parameter(s) is deprecated since 0.13 and may be removed in the future. Please use keyword parameter(s) instead.\n",
      "  warnings.warn(\n",
      "/usr/local/lib/python3.10/dist-packages/torchvision/models/_utils.py:223: UserWarning: Arguments other than a weight enum or `None` for 'weights' are deprecated since 0.13 and may be removed in the future. The current behavior is equivalent to passing `weights=ResNet34_Weights.IMAGENET1K_V1`. You can also use `weights=ResNet34_Weights.DEFAULT` to get the most up-to-date weights.\n",
      "  warnings.warn(msg)\n"
     ]
    }
   ],
   "source": [
    "rn = load_pretrained(get_base())"
   ]
  },
  {
   "cell_type": "code",
   "execution_count": 23,
   "id": "3f6157a0",
   "metadata": {},
   "outputs": [
    {
     "data": {
      "text/plain": [
       "torch.Size([1, 3, 768, 768])"
      ]
     },
     "execution_count": 23,
     "metadata": {},
     "output_type": "execute_result"
    }
   ],
   "source": [
    "X = train_ds[0][0].reshape(1,3,768,768)\n",
    "X.shape"
   ]
  },
  {
   "cell_type": "code",
   "execution_count": 88,
   "id": "2bae8973",
   "metadata": {},
   "outputs": [],
   "source": [
    "torch.cuda.empty_cache()"
   ]
  },
  {
   "cell_type": "code",
   "execution_count": 25,
   "id": "fc5eb3d3",
   "metadata": {},
   "outputs": [],
   "source": [
    "class FocalLoss(nn.Module):\n",
    "    def __init__(self, gamma):\n",
    "        super().__init__()\n",
    "        self.gamma = gamma\n",
    "        \n",
    "    def forward(self, input, target):\n",
    "        if not (target.size() == input.size()):\n",
    "            raise ValueError(\"Target size ({}) must be the same as input size ({})\"\n",
    "                             .format(target.size(), input.size()))\n",
    "\n",
    "        max_val = (-input).clamp(min=0)\n",
    "        loss = input - input * target + max_val + \\\n",
    "            ((-max_val).exp() + (-input - max_val).exp()).log()\n",
    "\n",
    "        invprobs = F.logsigmoid(-input * (target * 2.0 - 1.0))\n",
    "        loss = (invprobs * self.gamma).exp() * loss\n",
    "        \n",
    "        return loss.mean()"
   ]
  },
  {
   "cell_type": "code",
   "execution_count": 26,
   "id": "f1383981",
   "metadata": {},
   "outputs": [],
   "source": [
    "class MixedLoss(nn.Module):\n",
    "    def __init__(self, alpha, gamma):\n",
    "        super().__init__()\n",
    "        self.alpha = alpha\n",
    "        self.focal = FocalLoss(gamma)\n",
    "        \n",
    "    def forward(self, input, target):\n",
    "        loss = self.alpha*self.focal(input, target) - torch.log(dice_loss(input, target))\n",
    "        return loss.mean()\n",
    "def dice_loss(input, target):\n",
    "    input = torch.sigmoid(input)\n",
    "    smooth = 1.0\n",
    "\n",
    "    iflat = input.view(-1)\n",
    "    tflat = target.view(-1)\n",
    "    intersection = (iflat * tflat).sum()\n",
    "    \n",
    "    return ((2.0 * intersection + smooth) / (iflat.sum() + tflat.sum() + smooth))"
   ]
  },
  {
   "cell_type": "code",
   "execution_count": 27,
   "id": "9ca76cad",
   "metadata": {},
   "outputs": [],
   "source": [
    "def dice(pred, targs):\n",
    "    pred = (pred>0).float()\n",
    "    return 2.0 * (pred*targs).sum() / ((pred+targs).sum() + 1.0)\n",
    "\n",
    "def IoU(pred, targs):\n",
    "    pred = (pred>0).float()\n",
    "    intersection = (pred*targs).sum()\n",
    "    return intersection / ((pred+targs).sum() - intersection + 1.0)"
   ]
  },
  {
   "cell_type": "code",
   "execution_count": 28,
   "id": "c63512fe",
   "metadata": {},
   "outputs": [
    {
     "data": {
      "text/plain": [
       "__main__.param"
      ]
     },
     "execution_count": 28,
     "metadata": {},
     "output_type": "execute_result"
    }
   ],
   "source": [
    "param"
   ]
  },
  {
   "cell_type": "code",
   "execution_count": 29,
   "id": "bea64994",
   "metadata": {},
   "outputs": [
    {
     "name": "stdout",
     "output_type": "stream",
     "text": [
      "\t up1.x_conv.weight\n",
      "\t up1.x_conv.bias\n",
      "\t up1.tr_conv.weight\n",
      "\t up1.tr_conv.bias\n",
      "\t up1.bn.weight\n",
      "\t up1.bn.bias\n",
      "\t up2.x_conv.weight\n",
      "\t up2.x_conv.bias\n",
      "\t up2.tr_conv.weight\n",
      "\t up2.tr_conv.bias\n",
      "\t up2.bn.weight\n",
      "\t up2.bn.bias\n",
      "\t up3.x_conv.weight\n",
      "\t up3.x_conv.bias\n",
      "\t up3.tr_conv.weight\n",
      "\t up3.tr_conv.bias\n",
      "\t up3.bn.weight\n",
      "\t up3.bn.bias\n",
      "\t up4.x_conv.weight\n",
      "\t up4.x_conv.bias\n",
      "\t up4.tr_conv.weight\n",
      "\t up4.tr_conv.bias\n",
      "\t up4.bn.weight\n",
      "\t up4.bn.bias\n",
      "\t up5.weight\n",
      "\t up5.bias\n"
     ]
    }
   ],
   "source": [
    "params_to_update = []\n",
    "for name, param in model.named_parameters():\n",
    "    if param.requires_grad == True and 'rn.' not in name:\n",
    "        params_to_update.append(param)\n",
    "        print(\"\\t\",name)\n",
    "optim = torch.optim.Adam(params_to_update, lr=0.01,weight_decay=0.0001)"
   ]
  },
  {
   "cell_type": "code",
   "execution_count": 29,
   "id": "2f0878a7",
   "metadata": {},
   "outputs": [
    {
     "data": {
      "application/vnd.jupyter.widget-view+json": {
       "model_id": "f63fa185354a43ff846ce5a0454b7f40",
       "version_major": 2,
       "version_minor": 0
      },
      "text/plain": [
       "  0%|          | 0/5 [00:00<?, ?it/s]"
      ]
     },
     "metadata": {},
     "output_type": "display_data"
    },
    {
     "ename": "ZeroDivisionError",
     "evalue": "division by zero",
     "output_type": "error",
     "traceback": [
      "\u001b[0;31m---------------------------------------------------------------------------\u001b[0m",
      "\u001b[0;31mZeroDivisionError\u001b[0m                         Traceback (most recent call last)",
      "Cell \u001b[0;32mIn [29], line 8\u001b[0m\n\u001b[1;32m      6\u001b[0m \u001b[38;5;28;01mfor\u001b[39;00m epoch \u001b[38;5;129;01min\u001b[39;00m tqdm(\u001b[38;5;28mrange\u001b[39m(\u001b[38;5;241m5\u001b[39m)):\n\u001b[1;32m      7\u001b[0m     \u001b[38;5;28;01mfor\u001b[39;00m i,(X,y,_) \u001b[38;5;129;01min\u001b[39;00m \u001b[38;5;28menumerate\u001b[39m(train_dl):\n\u001b[0;32m----> 8\u001b[0m         \u001b[38;5;241;43m1\u001b[39;49m\u001b[38;5;241;43m/\u001b[39;49m\u001b[38;5;241;43m0\u001b[39;49m\n\u001b[1;32m      9\u001b[0m         optim\u001b[38;5;241m.\u001b[39mzero_grad()\n\u001b[1;32m     10\u001b[0m         X ,y \u001b[38;5;241m=\u001b[39m X\u001b[38;5;241m.\u001b[39mto(dev),y\u001b[38;5;241m.\u001b[39mto(dev)\n",
      "\u001b[0;31mZeroDivisionError\u001b[0m: division by zero"
     ]
    }
   ],
   "source": [
    "from tqdm.auto import tqdm\n",
    "dev = 'cuda'\n",
    "model = model.to(dev)\n",
    "loss = MixedLoss(10.0, 2.0)\n",
    "\n",
    "for epoch in tqdm(range(5)):\n",
    "    for i,(X,y,_) in enumerate(train_dl):\n",
    "        optim.zero_grad()\n",
    "        X ,y = X.to(dev),y.to(dev)\n",
    "        pred = model(X)\n",
    "        l = loss(pred,y)\n",
    "        l.backward()\n",
    "        optim.step()\n",
    "        if i %100 == 0:\n",
    "            print(l.item())\n",
    "    \n",
    "\n",
    "        "
   ]
  },
  {
   "cell_type": "code",
   "execution_count": 50,
   "id": "89c3719e",
   "metadata": {},
   "outputs": [
    {
     "data": {
      "image/png": "[encoded data removed]",
      "text/plain": [
       "<Figure size 1200x400 with 2 Axes>"
      ]
     },
     "metadata": {},
     "output_type": "display_data"
    }
   ],
   "source": [
    "num_item = 6\n",
    "#names\n",
    "mask, predicted = y[num_item].to('cpu'),torch.where(output[num_item]>0.5,torch.tensor(1),torch.tensor(0))\n",
    "plt.figure(figsize=(12,4))\n",
    "plt.subplot(131)\n",
    "plt.imshow(mask, cmap='gray')\n",
    "plt.subplot(133)\n",
    "plt.imshow(predicted.detach().cpu().reshape(768,768), cmap='gray')\n",
    "plt.show()"
   ]
  },
  {
   "cell_type": "code",
   "execution_count": 92,
   "id": "aa56c490",
   "metadata": {},
   "outputs": [],
   "source": [
    "torch.save(model.state_dict(),'unet_final')"
   ]
  },
  {
   "cell_type": "markdown",
   "id": "5d22ce3e",
   "metadata": {},
   "source": [
    "<a id='title-three'></a>\n",
    "<div class=\"list-group\" id=\"list-tab\" role=\"tablist\">\n",
    "<h1  style=\"padding:20px;color:white;margin:0;font-size:200%;text-align:left;display:fill;border-radius:15px;background-color:\t#1E90FF;overflow:hidden\"> Submission</h1>"
   ]
  },
  {
   "cell_type": "code",
   "execution_count": 24,
   "id": "b37a1e8e",
   "metadata": {},
   "outputs": [],
   "source": [
    "model2 = Unet(rn)"
   ]
  },
  {
   "cell_type": "code",
   "execution_count": 25,
   "id": "ed94b855",
   "metadata": {},
   "outputs": [
    {
     "data": {
      "text/plain": [
       "<All keys matched successfully>"
      ]
     },
     "execution_count": 25,
     "metadata": {},
     "output_type": "execute_result"
    }
   ],
   "source": [
    "model2.load_state_dict(torch.load('unet_final'))"
   ]
  },
  {
   "cell_type": "code",
   "execution_count": null,
   "id": "dac28ecf",
   "metadata": {},
   "outputs": [],
   "source": [
    "torch.cuda.empty_cache()\n",
    "dev = 'cuda'\n",
    "model2 = model2.to(dev)\n",
    "final = pd.DataFrame()\n",
    "for i, (X, _,name) in enumerate(test_dl):\n",
    "    tmp = pd.DataFrame()\n",
    "    X = X.to('cuda')\n",
    "    output = model2(X)\n",
    "    a = torch.sigmoid(output)\n",
    "    code = [decode_mask(torch.where(x>0.6,torch.tensor(1),torch.tensor(0)).to('cpu').int()) for x in a]\n",
    "    tmp['ImageId'] = name\n",
    "    tmp['EncodedPixels'] = code\n",
    "    final = pd.concat([final,tmp],ignore_index=True)"
   ]
  },
  {
   "cell_type": "code",
   "execution_count": 70,
   "id": "ae845183",
   "metadata": {},
   "outputs": [],
   "source": [
    "final.to_csv('final.csv',index=False)"
   ]
  },
  {
   "cell_type": "code",
   "execution_count": 71,
   "id": "ad04ba78",
   "metadata": {},
   "outputs": [],
   "source": [
    "df1 = pd.read_csv('prob.csv')"
   ]
  },
  {
   "cell_type": "code",
   "execution_count": 72,
   "id": "cb163321",
   "metadata": {},
   "outputs": [],
   "source": [
    "img = df1[df1['ship']<0.5]['ImageId'].tolist()"
   ]
  },
  {
   "cell_type": "code",
   "execution_count": 73,
   "id": "5049f846",
   "metadata": {},
   "outputs": [],
   "source": [
    "df = pd.read_csv('final.csv')"
   ]
  },
  {
   "cell_type": "code",
   "execution_count": 74,
   "id": "48f7c4f1",
   "metadata": {},
   "outputs": [],
   "source": [
    "df.loc[df['ImageId'].isin(img),'EncodedPixels'] = np.nan"
   ]
  },
  {
   "cell_type": "code",
   "execution_count": 75,
   "id": "674adfde",
   "metadata": {},
   "outputs": [],
   "source": [
    "df.to_csv('sub.csv',index=False)"
   ]
  },
  {
   "cell_type": "code",
   "execution_count": null,
   "id": "8454c7c3",
   "metadata": {},
   "outputs": [],
   "source": []
  }
 ],
 "metadata": {
  "kernelspec": {
   "display_name": "Python 3 (ipykernel)",
   "language": "python",
   "name": "python3"
  },
  "language_info": {
   "codemirror_mode": {
    "name": "ipython",
    "version": 3
   },
   "file_extension": ".py",
   "mimetype": "text/x-python",
   "name": "python",
   "nbconvert_exporter": "python",
   "pygments_lexer": "ipython3",
   "version": "3.10.12"
  }
 },
 "nbformat": 4,
 "nbformat_minor": 5
}
